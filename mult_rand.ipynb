{
 "cells": [
  {
   "cell_type": "code",
   "execution_count": 11,
   "id": "2a4fb7c3",
   "metadata": {},
   "outputs": [
    {
     "name": "stdout",
     "output_type": "stream",
     "text": [
      "[[6.65749494e-04 1.47112063e-02 1.16873712e-03 1.53451089e-03\n",
      "  5.73490964e-03 3.04377079e-03 1.47866289e-02 5.03634837e-04\n",
      "  3.69988444e-03 5.18138676e-03 2.76094869e-03 2.06898536e-03\n",
      "  7.39242092e-03 1.40514002e-02 6.96321736e-03 3.51781763e-03\n",
      "  8.56900302e-03 3.20646589e-03 6.24011051e-03 9.12807262e-03\n",
      "  8.63424468e-04 5.40698657e-03 2.81604811e-03 3.26826298e-03\n",
      "  5.62988472e-03 6.17093315e-03 1.19501095e-02 8.19125179e-03\n",
      "  4.22859104e-03 4.72722338e-03 3.08083624e-03 2.14011802e-02\n",
      "  5.92755265e-03 9.73742575e-03 1.44158076e-02 1.36152077e-02\n",
      "  9.63216126e-05 4.24286741e-03 8.86124119e-03 7.61445377e-04\n",
      "  1.16002470e-03 6.20543408e-03 4.71511029e-03 1.27729843e-02\n",
      "  3.31698369e-04 3.25029871e-03 1.06405037e-02 4.31588793e-04\n",
      "  4.58438700e-04 3.53568126e-03 2.55781623e-02 8.58769169e-03\n",
      "  1.44170248e-02 5.19958892e-03 9.22590833e-04 8.35145230e-03\n",
      "  2.70730169e-03 8.19720132e-03 1.96168591e-02 2.10763702e-03\n",
      "  1.47858434e-02 5.18996334e-03 1.94527638e-03 2.24677326e-03\n",
      "  9.82403674e-04 8.57814038e-04 4.94766296e-04 2.70011881e-03\n",
      "  1.52355535e-03 1.67719284e-03 3.38430974e-03 6.71922743e-03\n",
      "  4.51684933e-07 5.33488429e-03 3.34291008e-04 1.80657550e-03\n",
      "  3.03428593e-03 8.79243425e-05 1.09639880e-02 3.86372154e-03\n",
      "  5.90897412e-03 1.52874298e-04 6.74576347e-03 4.17379843e-04\n",
      "  1.91200590e-03 4.52336566e-03 7.07279218e-03 1.00963768e-02\n",
      "  1.23961580e-02 5.74519576e-04 7.00530799e-03 1.69184127e-03\n",
      "  4.21541887e-03 1.28330622e-03 6.69154562e-04 4.11630900e-03\n",
      "  1.79037978e-03 5.28777347e-04 1.66288652e-04 9.12372015e-03\n",
      "  1.67078864e-02 1.50703196e-02 4.79168313e-03 2.96527290e-03\n",
      "  2.04127746e-03 8.64141006e-03 2.11549202e-03 8.01046288e-03\n",
      "  1.84690287e-02 3.71734579e-03 8.90598200e-03 1.58240412e-03\n",
      "  1.77430087e-04 7.88971928e-03 4.61133959e-03 2.09605495e-02\n",
      "  8.05287331e-03 3.33983853e-03 7.32578300e-03 1.17151327e-03\n",
      "  1.24130800e-02 1.16808418e-03 5.30049747e-03 2.62881118e-04\n",
      "  4.50794736e-03 5.82898240e-03 5.40992777e-04 6.44848415e-03]]\n",
      "0.9999999999999999\n"
     ]
    }
   ],
   "source": [
    "import numpy as np\n",
    "\n",
    "a = np.random.rand(1, 128)\n",
    "normalized_a = a / np.linalg.norm(a)\n",
    "\n",
    "b = np.random.rand(1, 128)\n",
    "normalized_b = b / np.linalg.norm(b)\n",
    "c = normalized_a * normalized_b\n",
    "d = np.sum(normalized_a * normalized_a)\n",
    "print(c)\n",
    "print(d)"
   ]
  },
  {
   "cell_type": "code",
   "execution_count": 7,
   "id": "83191b89",
   "metadata": {},
   "outputs": [
    {
     "name": "stdout",
     "output_type": "stream",
     "text": [
      "None\n",
      "None\n"
     ]
    },
    {
     "data": {
      "text/plain": [
       "NoneType"
      ]
     },
     "execution_count": 7,
     "metadata": {},
     "output_type": "execute_result"
    }
   ],
   "source": [
    "def do_nothing():\n",
    "    pass\n",
    "\n",
    "res = do_nothing()\n",
    "res2 = None\n",
    "print(res)\n",
    "print(res2)\n",
    "type(res2)"
   ]
  },
  {
   "cell_type": "code",
   "execution_count": 13,
   "id": "ec4d943d",
   "metadata": {},
   "outputs": [
    {
     "name": "stdout",
     "output_type": "stream",
     "text": [
      "1\n",
      "lala\n"
     ]
    }
   ],
   "source": [
    "def some_func(meow , name= \"bloop\"):\n",
    "    print(meow)\n",
    "    print(name)\n",
    "some_func(1, \"lala\")"
   ]
  },
  {
   "cell_type": "code",
   "execution_count": 5,
   "id": "8e6eed13",
   "metadata": {},
   "outputs": [
    {
     "name": "stdout",
     "output_type": "stream",
     "text": [
      "1000000000000000000000000000000000000009\n",
      "1000000000000000000000000000000000000008\n"
     ]
    },
    {
     "data": {
      "text/plain": [
       "int"
      ]
     },
     "execution_count": 5,
     "metadata": {},
     "output_type": "execute_result"
    }
   ],
   "source": [
    "num = 1000000000000000000000000000000000000007\n",
    "num += 1\n",
    "print(num + 1)\n",
    "num -= 1\n",
    "print(num + 1)\n",
    "type(num)"
   ]
  },
  {
   "cell_type": "code",
   "execution_count": 4,
   "id": "d1af29fa",
   "metadata": {},
   "outputs": [
    {
     "name": "stdout",
     "output_type": "stream",
     "text": [
      "0\n"
     ]
    }
   ],
   "source": [
    "c = chr(48)\n",
    "print(c)"
   ]
  },
  {
   "cell_type": "code",
   "execution_count": 3,
   "id": "868e651d-6297-4dfe-8a4e-e3410a9eb61b",
   "metadata": {},
   "outputs": [
    {
     "name": "stdout",
     "output_type": "stream",
     "text": [
      "97\n"
     ]
    }
   ],
   "source": [
    "val = ord('a')\n",
    "print(val)"
   ]
  },
  {
   "cell_type": "code",
   "execution_count": 6,
   "id": "15cf47b9-7f28-4ab0-8737-532d12034c7c",
   "metadata": {},
   "outputs": [
    {
     "name": "stdout",
     "output_type": "stream",
     "text": [
      "False\n"
     ]
    }
   ],
   "source": [
    "print(3 == '3')"
   ]
  },
  {
   "cell_type": "code",
   "execution_count": null,
   "id": "39fc7a96-8745-411a-b1bc-8939c6ecf8e7",
   "metadata": {},
   "outputs": [],
   "source": []
  }
 ],
 "metadata": {
  "kernelspec": {
   "display_name": "Python 3 (ipykernel)",
   "language": "python",
   "name": "python3"
  },
  "language_info": {
   "codemirror_mode": {
    "name": "ipython",
    "version": 3
   },
   "file_extension": ".py",
   "mimetype": "text/x-python",
   "name": "python",
   "nbconvert_exporter": "python",
   "pygments_lexer": "ipython3",
   "version": "3.8.10"
  }
 },
 "nbformat": 4,
 "nbformat_minor": 5
}
