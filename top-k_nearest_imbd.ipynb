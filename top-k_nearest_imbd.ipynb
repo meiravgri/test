{
 "cells": [
  {
   "cell_type": "code",
   "execution_count": 7,
   "id": "69b37c38",
   "metadata": {},
   "outputs": [
    {
     "name": "stderr",
     "output_type": "stream",
     "text": [
      "Reusing dataset imdb (/home/meirav-gri/.cache/huggingface/datasets/imdb/plain_text/1.0.0/2fdd8b9bcadd6e7055e742a706876ba43f19faee861df134affd7a3f60fc38a1)\n",
      "Reusing dataset imdb (/home/meirav-gri/.cache/huggingface/datasets/imdb/plain_text/1.0.0/2fdd8b9bcadd6e7055e742a706876ba43f19faee861df134affd7a3f60fc38a1)\n"
     ]
    }
   ],
   "source": [
    "from datasets import load_dataset\n",
    "\n",
    "reviews_test = load_dataset(\"imdb\", split='test')\n",
    "reviews_train = load_dataset(\"imdb\", split='train')"
   ]
  },
  {
   "cell_type": "code",
   "execution_count": 8,
   "id": "bca7da56",
   "metadata": {},
   "outputs": [
    {
     "name": "stdout",
     "output_type": "stream",
     "text": [
      "{'text': 'I love sci-fi and am willing to put up with a lot. Sci-fi movies/TV are usually underfunded, under-appreciated and misunderstood. I tried to like this, I really did, but it is to good TV sci-fi as Babylon 5 is to Star Trek (the original). Silly prosthetics, cheap cardboard sets, stilted dialogues, CG that doesn\\'t match the background, and painfully one-dimensional characters cannot be overcome with a \\'sci-fi\\' setting. (I\\'m sure there are those of you out there who think Babylon 5 is good sci-fi TV. It\\'s not. It\\'s clichéd and uninspiring.) While US viewers might like emotion and character development, sci-fi is a genre that does not take itself seriously (cf. Star Trek). It may treat important issues, yet not as a serious philosophy. It\\'s really difficult to care about the characters here as they are not simply foolish, just missing a spark of life. Their actions and reactions are wooden and predictable, often painful to watch. The makers of Earth KNOW it\\'s rubbish as they have to always say \"Gene Roddenberry\\'s Earth...\" otherwise people would not continue watching. Roddenberry\\'s ashes must be turning in their orbit as this dull, cheap, poorly edited (watching it without advert breaks really brings this home) trudging Trabant of a show lumbers into space. Spoiler. So, kill off a main character. And then bring him back as another actor. Jeeez! Dallas all over again.', 'label': 0}\n"
     ]
    },
    {
     "data": {
      "text/plain": [
       "{'text': 'I rented I AM CURIOUS-YELLOW from my video store because of all the controversy that surrounded it when it was first released in 1967. I also heard that at first it was seized by U.S. customs if it ever tried to enter this country, therefore being a fan of films considered \"controversial\" I really had to see this for myself.<br /><br />The plot is centered around a young Swedish drama student named Lena who wants to learn everything she can about life. In particular she wants to focus her attentions to making some sort of documentary on what the average Swede thought about certain political issues such as the Vietnam War and race issues in the United States. In between asking politicians and ordinary denizens of Stockholm about their opinions on politics, she has sex with her drama teacher, classmates, and married men.<br /><br />What kills me about I AM CURIOUS-YELLOW is that 40 years ago, this was considered pornographic. Really, the sex and nudity scenes are few and far between, even then it\\'s not shot like some cheaply made porno. While my countrymen mind find it shocking, in reality sex and nudity are a major staple in Swedish cinema. Even Ingmar Bergman, arguably their answer to good old boy John Ford, had sex scenes in his films.<br /><br />I do commend the filmmakers for the fact that any sex shown in the film is shown for artistic purposes rather than just to shock people and make money to be shown in pornographic theaters in America. I AM CURIOUS-YELLOW is a good film for anyone wanting to study the meat and potatoes (no pun intended) of Swedish cinema. But really, this film doesn\\'t have much of a plot.',\n",
       " 'label': 0}"
      ]
     },
     "execution_count": 8,
     "metadata": {},
     "output_type": "execute_result"
    }
   ],
   "source": [
    "print(reviews_test[0])\n",
    "reviews_train[0]"
   ]
  },
  {
   "cell_type": "code",
   "execution_count": 9,
   "id": "cd8aaee1",
   "metadata": {
    "scrolled": true
   },
   "outputs": [],
   "source": [
    "from sentence_transformers import SentenceTransformer\n",
    "\n",
    "model = SentenceTransformer('sentence-transformers/all-MiniLM-L6-v2')\n",
    "reviews_test_vector = [ model.encode(review) for review in reviews_test[:20]['text']]\n",
    "#reviews_train_vector = [ model.encode(review) for review in reviews_train[:]['text']]\n",
    "#%store reviews_train_vector\n",
    "\n",
    "\"\"\"\n",
    "    load embedded reviews_train_vector\n",
    "    if this returns an error, uncomment 2 previous lines\n",
    "\"\"\"\n",
    "%store -r reviews_train_vector\n",
    "\n",
    "#check how many dimensions in a single vector \n",
    "reviews_test_vector[0].shape\n",
    "reviews_train_vector[0].shape\n",
    "\n",
    "vector_dim = reviews_test_vector[0].shape"
   ]
  },
  {
   "cell_type": "code",
   "execution_count": 10,
   "id": "cfed910b",
   "metadata": {},
   "outputs": [],
   "source": [
    "from scipy.spatial.distance import euclidean, cosine\n",
    "\n",
    "def general_distance_lookup(trained_data, trained_vectors, query_data, query_vector, requested_k, dist_metric):\n",
    "    #for each trained_vector\n",
    "    distances = list()\n",
    "    for idx, trained_vector in enumerate(trained_vectors):\n",
    "        \n",
    "        #calc distance to test_vector\n",
    "        dist = dist_metric(trained_vector, query_vector)\n",
    "        \n",
    "        \n",
    "        #append distance to dists_list\n",
    "        distances.append((idx, dist))\n",
    "        \n",
    "    #sort distances from lowest to highest\n",
    "    distances.sort(key=lambda tup: tup[1])\n",
    "    \n",
    "    print(f\"\"\"we looked for: {query_data}\n",
    "            \n",
    "            we found:\"\"\")\n",
    "    \n",
    "    #print text of requested_k minimum of dists_list\n",
    "    for result in range(requested_k):\n",
    "        \n",
    "        train_index = distances[result][0]\n",
    "        train_review = trained_data[train_index]\n",
    "        print (\"********REVIEW NUMBER: \" + str(train_index) + ' ********')\n",
    "        print(f\"{train_review}\\n\")"
   ]
  },
  {
   "cell_type": "code",
   "execution_count": 11,
   "id": "ca749aa8",
   "metadata": {
    "collapsed": true
   },
   "outputs": [
    {
     "name": "stdout",
     "output_type": "stream",
     "text": [
      "we looked for: {'text': 'I love sci-fi and am willing to put up with a lot. Sci-fi movies/TV are usually underfunded, under-appreciated and misunderstood. I tried to like this, I really did, but it is to good TV sci-fi as Babylon 5 is to Star Trek (the original). Silly prosthetics, cheap cardboard sets, stilted dialogues, CG that doesn\\'t match the background, and painfully one-dimensional characters cannot be overcome with a \\'sci-fi\\' setting. (I\\'m sure there are those of you out there who think Babylon 5 is good sci-fi TV. It\\'s not. It\\'s clichéd and uninspiring.) While US viewers might like emotion and character development, sci-fi is a genre that does not take itself seriously (cf. Star Trek). It may treat important issues, yet not as a serious philosophy. It\\'s really difficult to care about the characters here as they are not simply foolish, just missing a spark of life. Their actions and reactions are wooden and predictable, often painful to watch. The makers of Earth KNOW it\\'s rubbish as they have to always say \"Gene Roddenberry\\'s Earth...\" otherwise people would not continue watching. Roddenberry\\'s ashes must be turning in their orbit as this dull, cheap, poorly edited (watching it without advert breaks really brings this home) trudging Trabant of a show lumbers into space. Spoiler. So, kill off a main character. And then bring him back as another actor. Jeeez! Dallas all over again.', 'label': 0}\n",
      "            \n",
      "            we found:\n",
      "********REVIEW NUMBER: 368 ********\n",
      "{'text': 'I cannot believe how popular this show is. I consider myself an avid sci-fi fan. I have read countless sci-fi novels and have enjoyed many sci-fi movies and TV shows. I really wouldn\\'t even consider this true sci-fi. Every episode I have sat through was like a lame, watered down version of a Star Trek episode, minus anything that might make it interesting or exciting.<br /><br />It\\'s basically a bunch of people standing around in ARMY fatigues, talking about something boring, who occasionally go through the Stargate and end up on a planet that looks just like Earth, with people who look and sound just like Humans! It seemed extremely low budget. The characters are all forgettable one dimensional cutouts, and the many attempts at humor fall flat. It reminds me when you see a commercial with a famous athlete in it, trying to be funny, but he is not. It is just sad.<br /><br />The movie was terrible as well. There is so much you can do with a portal through space, yet every place the ARMY people go is BORING! This shows no imagination! I actually thought the TV series \"Alien Nation\" from a few years back (based on the movie Alien Nation) was much better. That show actually had good story lines and decent characters. I wasn\\'t crazy about \"Alien Nation\", but compared to this overrated crap, it was great!<br /><br />Also, unlike the great new \"Battlestar Galactica\" series, \"Stargate\" copied the look and feel of the lame movie too closely! They should have at least updated the cheesy \"toilet flushing\" special effect of whenever somebody goes through the Stargate.', 'label': 0}\n",
      "\n",
      "********REVIEW NUMBER: 21323 ********\n",
      "{'text': \"OK. I admit. I'm one of those nerds who have spent all to many hours with my beloved DVD player and my wonderful television set watching science fiction series. Star Trek (Next Generation) was my first space date, and since then I've switched partners regularly. I've seen'em all, it seems, and my favorites are «Lexx», «Farscape» and the new «Battlestar Galactica», in other words: the newest, state of the art space operas. But, I also have a general crush on the old fashioned ones, the cheap ones, like the magnificent four seasoned BBC show «Blakes7». Here, the budgets are smaller than hobbits, the special effects seem to be made on a Commodore 64, but who cares when the scripts are sharp and intelligently written with dark humor, the acting dead serious and at times even high class?<br /><br />But why do they always speak English in the space future? Because this is NOT the future, it's fantasy for kids. Still, it can be irritating at times. Me, being a Norwegian, have often damned this appalling fact that one never makes genre series, like science fiction, for Scandinavian viewers. I never ever thought of the fact that this might have happened. But it did, actually, once, and even in my own homeland, Norway. I was two years old when the so called Fjernsynsteatret (TV theater section) of our national public service channel Nrk produced this three episode version of Blindpassasjer (The Stowaway).<br /><br />When I first heard of it, I was not surprised of the fact that until this day, the show has only been screened once in Norway, making it impossible for me to actually see it. It went on Swedish, danish and Finnish television also, in it's time, but that was a long time ago. There have been no video or DVD release of it, not a surprise either, and when it was screened on an art house cinema, this happened in Bergen, a city far far away from Oslo (where I live). And then there's another fact about «Blindpassasjer» that didn't surprise me, that it was written by the two Norwegian authors Tor Åge Bringsværd and Jon Bing (Bing&Bringsværd). This duo basically introduced the SciFi genre to Norwegians in the seventies; they published anthologies and wrote what they called fable prose. In my opinion, Bringsværd is the most interesting of the two writers, and has written several great and entertaining novels, masterpieces even, some of them hilarious, such as «Bazar» and «Syvsoverskens Dystre Frokost». No other than this guy, also an acclaimed dramatist, could construct the script of «Blindpassasjer».<br /><br />When I finally got to watch it, it was because a strange swede who recorded the three episodes on VCR in the 80's, eventually managed to transform it to DVD and give it to me. He was a nice bloke. So I sat down and watched it, with Swedish subtitles, bad sound and some scrapes and errors; but the thing came through and I was surprised that I eventually came to love it.<br /><br />The exterior scenes with the spaceships and planets are better than the ones in Blakes7, and the credit goes to Caprino studios (who made the famous Flåklypa Grand Prix), and the interior of the Marco Polo (the space ship) works better than I'd expected. The acting is typically theatrical, but it works better than when they play Ibsen, to put it mildly, and Bjørn Floberg carries his role solidly, as does Trini Lund. The legendary actress Henny moan delivers her lines in a serious and laid back tone which fits the genre, but this is an ensemble play, and I'm happy to say that Ola B. Johannesen carries his mustache with nobility, and Marit Østbye is a really hot space chic of my standards.<br /><br />But is it really that good? Well, one have to swallow the rather abrupt ending, the pretentious criticism of «modern society», but yes, it's, well, not really really really fantastic, but charming, cool, nostalgic and pleasant. One and a half hour of classic Norwegian SciFi.\", 'label': 1}\n",
      "\n",
      "********REVIEW NUMBER: 13645 ********\n",
      "{'text': 'I nominate this and BABYLON 5 as the best television sci-fi series made. Both stand out in my mind because unlike early STAR TREK series, there is a consistent evolution of plots and characters. If you look at the original STAR TREK and STAR TREK:TNG, they were fine shows, but there was no overall theme or plot that connected all the episodes. In many ways, you could usually watch the shows totally out of sequence with no difficulty understanding what is occurring. This was less the case with DEEP SPACE 9 (with its giant battles that took up all of the final season) and the other TREK shows, as there was more of a larger story that unified them. This coherence seems to have developed as a concept with BABYLON 5 and saw this to an even greater extent with SG-1. The bottom line is that in many ways this series was like watching a family or a long novel slowly take form. Sure, there were a few \"throwaway\" episodes that were not connected to the rest, but these were very few and far between and were also usually pretty funny.<br /><br />And speaking of funny, I loved that SG-1 kept the mood light from time to time and wasn\\'t so dreadfully serious. In this way, I actually enjoyed it more than BABYLON 5. Jack O\\'Neill was a great character with his sarcasm and love of Homer Simpson--it\\'s really too bad he slowly faded from the series in later seasons.<br /><br />To truly appreciate SG-1, you should watch it from the beginning and see how intricately the plots work. This coherence gives the show exceptional staying power. And, if you don\\'t like SG-1 after giving it a fair chance, then sci-fi is probably NOT the genre for you.', 'label': 1}\n",
      "\n",
      "********REVIEW NUMBER: 18952 ********\n",
      "{'text': 'It\\'s only 2 episodes into a 5 part drama, but I can already state that this is one of the best things I\\'ve ever seen. That\\'s on TV, silver screen or even in real life.<br /><br />As a writer, it\\'s so good it\\'s almost demoralising! As a viewer it\\'s so entertaining that I\\'m annoyed the episodes are over a fortnight instead of Monday to Friday. It\\'s clear that all these negatives are actually positives.<br /><br />I\\'m a modern guy who previously turned over from TV dramas. In comparison to movies, TV dramas always seemed to be dated, quite tame, and well, generally boring! \"Five Days\" has really brought TV drama into the 21st Century, so for me at least, it\\'s mind changing. Go watch it.', 'label': 1}\n",
      "\n",
      "********REVIEW NUMBER: 23662 ********\n",
      "{'text': \"Star Trek: Hidden Frontier is a long-running internet only fan film, done completely for the love of the series, and a must watch for fans of Trek. The production quality is extremely high for a fan film, although sometimes you can tell that they're green-screenin' it. This doesn't take away from the overall experience however. The CGI ships are fantastic, as well as the space battle scenes... On the negative side, I could tell in the earlier episodes (and even occasionally in the newer ones) that some of the actors/actresses are not quite comfortable in their roles, but once again, this doesn't take away from the overall experience of new interpretations of Star Trek. The cast and crew have truly come up with something special here, and, as a whole,I would highly recommend this series to fans of The Next Generation and Deep Space 9.\", 'label': 1}\n",
      "\n"
     ]
    }
   ],
   "source": [
    " general_distance_lookup(reviews_train, reviews_train_vector,reviews_test[0], reviews_test_vector[0], 5, euclidean)"
   ]
  },
  {
   "cell_type": "code",
   "execution_count": 12,
   "id": "6e3be812",
   "metadata": {
    "collapsed": true
   },
   "outputs": [
    {
     "name": "stdout",
     "output_type": "stream",
     "text": [
      "we looked for: {'text': 'I love sci-fi and am willing to put up with a lot. Sci-fi movies/TV are usually underfunded, under-appreciated and misunderstood. I tried to like this, I really did, but it is to good TV sci-fi as Babylon 5 is to Star Trek (the original). Silly prosthetics, cheap cardboard sets, stilted dialogues, CG that doesn\\'t match the background, and painfully one-dimensional characters cannot be overcome with a \\'sci-fi\\' setting. (I\\'m sure there are those of you out there who think Babylon 5 is good sci-fi TV. It\\'s not. It\\'s clichéd and uninspiring.) While US viewers might like emotion and character development, sci-fi is a genre that does not take itself seriously (cf. Star Trek). It may treat important issues, yet not as a serious philosophy. It\\'s really difficult to care about the characters here as they are not simply foolish, just missing a spark of life. Their actions and reactions are wooden and predictable, often painful to watch. The makers of Earth KNOW it\\'s rubbish as they have to always say \"Gene Roddenberry\\'s Earth...\" otherwise people would not continue watching. Roddenberry\\'s ashes must be turning in their orbit as this dull, cheap, poorly edited (watching it without advert breaks really brings this home) trudging Trabant of a show lumbers into space. Spoiler. So, kill off a main character. And then bring him back as another actor. Jeeez! Dallas all over again.', 'label': 0}\n",
      "            \n",
      "            we found:\n",
      "********REVIEW NUMBER: 368 ********\n",
      "{'text': 'I cannot believe how popular this show is. I consider myself an avid sci-fi fan. I have read countless sci-fi novels and have enjoyed many sci-fi movies and TV shows. I really wouldn\\'t even consider this true sci-fi. Every episode I have sat through was like a lame, watered down version of a Star Trek episode, minus anything that might make it interesting or exciting.<br /><br />It\\'s basically a bunch of people standing around in ARMY fatigues, talking about something boring, who occasionally go through the Stargate and end up on a planet that looks just like Earth, with people who look and sound just like Humans! It seemed extremely low budget. The characters are all forgettable one dimensional cutouts, and the many attempts at humor fall flat. It reminds me when you see a commercial with a famous athlete in it, trying to be funny, but he is not. It is just sad.<br /><br />The movie was terrible as well. There is so much you can do with a portal through space, yet every place the ARMY people go is BORING! This shows no imagination! I actually thought the TV series \"Alien Nation\" from a few years back (based on the movie Alien Nation) was much better. That show actually had good story lines and decent characters. I wasn\\'t crazy about \"Alien Nation\", but compared to this overrated crap, it was great!<br /><br />Also, unlike the great new \"Battlestar Galactica\" series, \"Stargate\" copied the look and feel of the lame movie too closely! They should have at least updated the cheesy \"toilet flushing\" special effect of whenever somebody goes through the Stargate.', 'label': 0}\n",
      "\n",
      "********REVIEW NUMBER: 21323 ********\n",
      "{'text': \"OK. I admit. I'm one of those nerds who have spent all to many hours with my beloved DVD player and my wonderful television set watching science fiction series. Star Trek (Next Generation) was my first space date, and since then I've switched partners regularly. I've seen'em all, it seems, and my favorites are «Lexx», «Farscape» and the new «Battlestar Galactica», in other words: the newest, state of the art space operas. But, I also have a general crush on the old fashioned ones, the cheap ones, like the magnificent four seasoned BBC show «Blakes7». Here, the budgets are smaller than hobbits, the special effects seem to be made on a Commodore 64, but who cares when the scripts are sharp and intelligently written with dark humor, the acting dead serious and at times even high class?<br /><br />But why do they always speak English in the space future? Because this is NOT the future, it's fantasy for kids. Still, it can be irritating at times. Me, being a Norwegian, have often damned this appalling fact that one never makes genre series, like science fiction, for Scandinavian viewers. I never ever thought of the fact that this might have happened. But it did, actually, once, and even in my own homeland, Norway. I was two years old when the so called Fjernsynsteatret (TV theater section) of our national public service channel Nrk produced this three episode version of Blindpassasjer (The Stowaway).<br /><br />When I first heard of it, I was not surprised of the fact that until this day, the show has only been screened once in Norway, making it impossible for me to actually see it. It went on Swedish, danish and Finnish television also, in it's time, but that was a long time ago. There have been no video or DVD release of it, not a surprise either, and when it was screened on an art house cinema, this happened in Bergen, a city far far away from Oslo (where I live). And then there's another fact about «Blindpassasjer» that didn't surprise me, that it was written by the two Norwegian authors Tor Åge Bringsværd and Jon Bing (Bing&Bringsværd). This duo basically introduced the SciFi genre to Norwegians in the seventies; they published anthologies and wrote what they called fable prose. In my opinion, Bringsværd is the most interesting of the two writers, and has written several great and entertaining novels, masterpieces even, some of them hilarious, such as «Bazar» and «Syvsoverskens Dystre Frokost». No other than this guy, also an acclaimed dramatist, could construct the script of «Blindpassasjer».<br /><br />When I finally got to watch it, it was because a strange swede who recorded the three episodes on VCR in the 80's, eventually managed to transform it to DVD and give it to me. He was a nice bloke. So I sat down and watched it, with Swedish subtitles, bad sound and some scrapes and errors; but the thing came through and I was surprised that I eventually came to love it.<br /><br />The exterior scenes with the spaceships and planets are better than the ones in Blakes7, and the credit goes to Caprino studios (who made the famous Flåklypa Grand Prix), and the interior of the Marco Polo (the space ship) works better than I'd expected. The acting is typically theatrical, but it works better than when they play Ibsen, to put it mildly, and Bjørn Floberg carries his role solidly, as does Trini Lund. The legendary actress Henny moan delivers her lines in a serious and laid back tone which fits the genre, but this is an ensemble play, and I'm happy to say that Ola B. Johannesen carries his mustache with nobility, and Marit Østbye is a really hot space chic of my standards.<br /><br />But is it really that good? Well, one have to swallow the rather abrupt ending, the pretentious criticism of «modern society», but yes, it's, well, not really really really fantastic, but charming, cool, nostalgic and pleasant. One and a half hour of classic Norwegian SciFi.\", 'label': 1}\n",
      "\n",
      "********REVIEW NUMBER: 13645 ********\n",
      "{'text': 'I nominate this and BABYLON 5 as the best television sci-fi series made. Both stand out in my mind because unlike early STAR TREK series, there is a consistent evolution of plots and characters. If you look at the original STAR TREK and STAR TREK:TNG, they were fine shows, but there was no overall theme or plot that connected all the episodes. In many ways, you could usually watch the shows totally out of sequence with no difficulty understanding what is occurring. This was less the case with DEEP SPACE 9 (with its giant battles that took up all of the final season) and the other TREK shows, as there was more of a larger story that unified them. This coherence seems to have developed as a concept with BABYLON 5 and saw this to an even greater extent with SG-1. The bottom line is that in many ways this series was like watching a family or a long novel slowly take form. Sure, there were a few \"throwaway\" episodes that were not connected to the rest, but these were very few and far between and were also usually pretty funny.<br /><br />And speaking of funny, I loved that SG-1 kept the mood light from time to time and wasn\\'t so dreadfully serious. In this way, I actually enjoyed it more than BABYLON 5. Jack O\\'Neill was a great character with his sarcasm and love of Homer Simpson--it\\'s really too bad he slowly faded from the series in later seasons.<br /><br />To truly appreciate SG-1, you should watch it from the beginning and see how intricately the plots work. This coherence gives the show exceptional staying power. And, if you don\\'t like SG-1 after giving it a fair chance, then sci-fi is probably NOT the genre for you.', 'label': 1}\n",
      "\n",
      "********REVIEW NUMBER: 18952 ********\n",
      "{'text': 'It\\'s only 2 episodes into a 5 part drama, but I can already state that this is one of the best things I\\'ve ever seen. That\\'s on TV, silver screen or even in real life.<br /><br />As a writer, it\\'s so good it\\'s almost demoralising! As a viewer it\\'s so entertaining that I\\'m annoyed the episodes are over a fortnight instead of Monday to Friday. It\\'s clear that all these negatives are actually positives.<br /><br />I\\'m a modern guy who previously turned over from TV dramas. In comparison to movies, TV dramas always seemed to be dated, quite tame, and well, generally boring! \"Five Days\" has really brought TV drama into the 21st Century, so for me at least, it\\'s mind changing. Go watch it.', 'label': 1}\n",
      "\n",
      "********REVIEW NUMBER: 23662 ********\n",
      "{'text': \"Star Trek: Hidden Frontier is a long-running internet only fan film, done completely for the love of the series, and a must watch for fans of Trek. The production quality is extremely high for a fan film, although sometimes you can tell that they're green-screenin' it. This doesn't take away from the overall experience however. The CGI ships are fantastic, as well as the space battle scenes... On the negative side, I could tell in the earlier episodes (and even occasionally in the newer ones) that some of the actors/actresses are not quite comfortable in their roles, but once again, this doesn't take away from the overall experience of new interpretations of Star Trek. The cast and crew have truly come up with something special here, and, as a whole,I would highly recommend this series to fans of The Next Generation and Deep Space 9.\", 'label': 1}\n",
      "\n"
     ]
    }
   ],
   "source": [
    "general_distance_lookup(reviews_train, reviews_train_vector,reviews_test[0], reviews_test_vector[0], 5, cosine)"
   ]
  },
  {
   "cell_type": "code",
   "execution_count": 14,
   "id": "578dbd02",
   "metadata": {},
   "outputs": [
    {
     "name": "stdout",
     "output_type": "stream",
     "text": [
      "Connected to redis\n"
     ]
    }
   ],
   "source": [
    "import redis\n",
    "\n",
    "#connect to redis\n",
    "host = 'vecsim'\n",
    "port = 6379\n",
    "redis_conn = redis.Redis(host = host, port = port)\n",
    "print ('Connected to redis')"
   ]
  },
  {
   "cell_type": "code",
   "execution_count": 15,
   "id": "b2615dcd",
   "metadata": {},
   "outputs": [],
   "source": [
    "#load reviews into redis hash\n",
    "import numpy as np\n",
    "def load_vectors(client:redis.Redis, trained_data, data_vectors, vector_field_name):\n",
    "    #map all trained data\n",
    "    p = client.pipeline(transaction=False)\n",
    "    reviews_train[0]['label']\n",
    "    for index, entry in enumerate(trained_data):\n",
    "        \n",
    "        #hash key\n",
    "        key = 'review:'+ str(index)\n",
    "        \n",
    "        #hash fields\n",
    "        text = entry['text']\n",
    "        label = entry['label']  \n",
    "        data_vector = data_vectors[index].astype(np.float32).tobytes()\n",
    "        data_mapping = {'text':text,'label':label, vector_field_name:data_vector}\n",
    "        \n",
    "        p.hset(key,mapping = data_mapping) \n",
    "    p.execute()"
   ]
  },
  {
   "cell_type": "code",
   "execution_count": 16,
   "id": "ee24136f",
   "metadata": {},
   "outputs": [],
   "source": [
    "#Utility Functions to Create Indexes on Vector field\n",
    "\n",
    "def create_flat_index (redis_conn,vector_field_name,number_of_vectors, vector_dimensions = vector_dim, distance_metric='COSINE'):\n",
    "    create_command =  [\"FT.CREATE\", \"idx\", \"SCHEMA\",\"text\",\"TEXT\",\"label\",\"TAG\"]\n",
    "    create_command += [\"reviews_vector\", \"VECTOR\", \"FLAT\", \"6\", \n",
    "                        \"TYPE\", \"FLOAT32\", \n",
    "                        \"DIM\", str(vector_dimensions), \n",
    "                        \"DISTANCE_METRIC\", str(distance_metric)]\n",
    "    redis_conn.execute_command(*create_command)\n",
    "\n",
    "def create_hnsw_index (redis_conn, vector_dimensions = vector_dim, distance_metric='COSINE'):\n",
    "    \n",
    "    create_command =  [\"FT.CREATE\", \"idx\", \"SCHEMA\",\"text\",\"TEXT\",\"label\",\"TAG\"]\n",
    "    create_command += [\"reviews_train_vector\", \"VECTOR\", \"HNSW\", \"6\", \n",
    "                        \"TYPE\", \"FLOAT32\", \n",
    "                        \"DIM\", str(vector_dimensions), \n",
    "                        \"DISTANCE_METRIC\", str(distance_metric)]\n",
    "    \n",
    "    redis_conn.execute_command(*create_command)"
   ]
  },
  {
   "cell_type": "code",
   "execution_count": 17,
   "id": "2451cbc2",
   "metadata": {},
   "outputs": [
    {
     "ename": "ConnectionError",
     "evalue": "Error -2 connecting to vecsim:6379. Name or service not known.",
     "output_type": "error",
     "traceback": [
      "\u001b[0;31m---------------------------------------------------------------------------\u001b[0m",
      "\u001b[0;31mgaierror\u001b[0m                                  Traceback (most recent call last)",
      "File \u001b[0;32m~/test-env/lib/python3.10/site-packages/redis/connection.py:611\u001b[0m, in \u001b[0;36mConnection.connect\u001b[0;34m(self)\u001b[0m\n\u001b[1;32m    610\u001b[0m \u001b[38;5;28;01mtry\u001b[39;00m:\n\u001b[0;32m--> 611\u001b[0m     sock \u001b[38;5;241m=\u001b[39m \u001b[38;5;28;43mself\u001b[39;49m\u001b[38;5;241;43m.\u001b[39;49m\u001b[43mretry\u001b[49m\u001b[38;5;241;43m.\u001b[39;49m\u001b[43mcall_with_retry\u001b[49m\u001b[43m(\u001b[49m\n\u001b[1;32m    612\u001b[0m \u001b[43m        \u001b[49m\u001b[38;5;28;43;01mlambda\u001b[39;49;00m\u001b[43m:\u001b[49m\u001b[43m \u001b[49m\u001b[38;5;28;43mself\u001b[39;49m\u001b[38;5;241;43m.\u001b[39;49m\u001b[43m_connect\u001b[49m\u001b[43m(\u001b[49m\u001b[43m)\u001b[49m\u001b[43m,\u001b[49m\u001b[43m \u001b[49m\u001b[38;5;28;43;01mlambda\u001b[39;49;00m\u001b[43m \u001b[49m\u001b[43merror\u001b[49m\u001b[43m:\u001b[49m\u001b[43m \u001b[49m\u001b[38;5;28;43mself\u001b[39;49m\u001b[38;5;241;43m.\u001b[39;49m\u001b[43mdisconnect\u001b[49m\u001b[43m(\u001b[49m\u001b[43merror\u001b[49m\u001b[43m)\u001b[49m\n\u001b[1;32m    613\u001b[0m \u001b[43m    \u001b[49m\u001b[43m)\u001b[49m\n\u001b[1;32m    614\u001b[0m \u001b[38;5;28;01mexcept\u001b[39;00m socket\u001b[38;5;241m.\u001b[39mtimeout:\n",
      "File \u001b[0;32m~/test-env/lib/python3.10/site-packages/redis/retry.py:46\u001b[0m, in \u001b[0;36mRetry.call_with_retry\u001b[0;34m(self, do, fail)\u001b[0m\n\u001b[1;32m     45\u001b[0m \u001b[38;5;28;01mtry\u001b[39;00m:\n\u001b[0;32m---> 46\u001b[0m     \u001b[38;5;28;01mreturn\u001b[39;00m \u001b[43mdo\u001b[49m\u001b[43m(\u001b[49m\u001b[43m)\u001b[49m\n\u001b[1;32m     47\u001b[0m \u001b[38;5;28;01mexcept\u001b[39;00m \u001b[38;5;28mself\u001b[39m\u001b[38;5;241m.\u001b[39m_supported_errors \u001b[38;5;28;01mas\u001b[39;00m error:\n",
      "File \u001b[0;32m~/test-env/lib/python3.10/site-packages/redis/connection.py:612\u001b[0m, in \u001b[0;36mConnection.connect.<locals>.<lambda>\u001b[0;34m()\u001b[0m\n\u001b[1;32m    610\u001b[0m \u001b[38;5;28;01mtry\u001b[39;00m:\n\u001b[1;32m    611\u001b[0m     sock \u001b[38;5;241m=\u001b[39m \u001b[38;5;28mself\u001b[39m\u001b[38;5;241m.\u001b[39mretry\u001b[38;5;241m.\u001b[39mcall_with_retry(\n\u001b[0;32m--> 612\u001b[0m         \u001b[38;5;28;01mlambda\u001b[39;00m: \u001b[38;5;28;43mself\u001b[39;49m\u001b[38;5;241;43m.\u001b[39;49m\u001b[43m_connect\u001b[49m\u001b[43m(\u001b[49m\u001b[43m)\u001b[49m, \u001b[38;5;28;01mlambda\u001b[39;00m error: \u001b[38;5;28mself\u001b[39m\u001b[38;5;241m.\u001b[39mdisconnect(error)\n\u001b[1;32m    613\u001b[0m     )\n\u001b[1;32m    614\u001b[0m \u001b[38;5;28;01mexcept\u001b[39;00m socket\u001b[38;5;241m.\u001b[39mtimeout:\n",
      "File \u001b[0;32m~/test-env/lib/python3.10/site-packages/redis/connection.py:645\u001b[0m, in \u001b[0;36mConnection._connect\u001b[0;34m(self)\u001b[0m\n\u001b[1;32m    644\u001b[0m err \u001b[38;5;241m=\u001b[39m \u001b[38;5;28;01mNone\u001b[39;00m\n\u001b[0;32m--> 645\u001b[0m \u001b[38;5;28;01mfor\u001b[39;00m res \u001b[38;5;129;01min\u001b[39;00m \u001b[43msocket\u001b[49m\u001b[38;5;241;43m.\u001b[39;49m\u001b[43mgetaddrinfo\u001b[49m\u001b[43m(\u001b[49m\n\u001b[1;32m    646\u001b[0m \u001b[43m    \u001b[49m\u001b[38;5;28;43mself\u001b[39;49m\u001b[38;5;241;43m.\u001b[39;49m\u001b[43mhost\u001b[49m\u001b[43m,\u001b[49m\u001b[43m \u001b[49m\u001b[38;5;28;43mself\u001b[39;49m\u001b[38;5;241;43m.\u001b[39;49m\u001b[43mport\u001b[49m\u001b[43m,\u001b[49m\u001b[43m \u001b[49m\u001b[38;5;28;43mself\u001b[39;49m\u001b[38;5;241;43m.\u001b[39;49m\u001b[43msocket_type\u001b[49m\u001b[43m,\u001b[49m\u001b[43m \u001b[49m\u001b[43msocket\u001b[49m\u001b[38;5;241;43m.\u001b[39;49m\u001b[43mSOCK_STREAM\u001b[49m\n\u001b[1;32m    647\u001b[0m \u001b[43m\u001b[49m\u001b[43m)\u001b[49m:\n\u001b[1;32m    648\u001b[0m     family, socktype, proto, canonname, socket_address \u001b[38;5;241m=\u001b[39m res\n",
      "File \u001b[0;32m/usr/lib/python3.10/socket.py:955\u001b[0m, in \u001b[0;36mgetaddrinfo\u001b[0;34m(host, port, family, type, proto, flags)\u001b[0m\n\u001b[1;32m    954\u001b[0m addrlist \u001b[38;5;241m=\u001b[39m []\n\u001b[0;32m--> 955\u001b[0m \u001b[38;5;28;01mfor\u001b[39;00m res \u001b[38;5;129;01min\u001b[39;00m \u001b[43m_socket\u001b[49m\u001b[38;5;241;43m.\u001b[39;49m\u001b[43mgetaddrinfo\u001b[49m\u001b[43m(\u001b[49m\u001b[43mhost\u001b[49m\u001b[43m,\u001b[49m\u001b[43m \u001b[49m\u001b[43mport\u001b[49m\u001b[43m,\u001b[49m\u001b[43m \u001b[49m\u001b[43mfamily\u001b[49m\u001b[43m,\u001b[49m\u001b[43m \u001b[49m\u001b[38;5;28;43mtype\u001b[39;49m\u001b[43m,\u001b[49m\u001b[43m \u001b[49m\u001b[43mproto\u001b[49m\u001b[43m,\u001b[49m\u001b[43m \u001b[49m\u001b[43mflags\u001b[49m\u001b[43m)\u001b[49m:\n\u001b[1;32m    956\u001b[0m     af, socktype, proto, canonname, sa \u001b[38;5;241m=\u001b[39m res\n",
      "\u001b[0;31mgaierror\u001b[0m: [Errno -2] Name or service not known",
      "\nDuring handling of the above exception, another exception occurred:\n",
      "\u001b[0;31mConnectionError\u001b[0m                           Traceback (most recent call last)",
      "Input \u001b[0;32mIn [17]\u001b[0m, in \u001b[0;36m<cell line: 5>\u001b[0;34m()\u001b[0m\n\u001b[1;32m      2\u001b[0m DISTANCE_METRIC \u001b[38;5;241m=\u001b[39m \u001b[38;5;124m'\u001b[39m\u001b[38;5;124mCOSINE\u001b[39m\u001b[38;5;124m'\u001b[39m\n\u001b[1;32m      3\u001b[0m DIMENSIONS \u001b[38;5;241m=\u001b[39m vector_dim\n\u001b[0;32m----> 5\u001b[0m \u001b[43mredis_conn\u001b[49m\u001b[38;5;241;43m.\u001b[39;49m\u001b[43mflushall\u001b[49m\u001b[43m(\u001b[49m\u001b[43m)\u001b[49m\n",
      "File \u001b[0;32m~/test-env/lib/python3.10/site-packages/redis/commands/core.py:899\u001b[0m, in \u001b[0;36mManagementCommands.flushall\u001b[0;34m(self, asynchronous, **kwargs)\u001b[0m\n\u001b[1;32m    897\u001b[0m \u001b[38;5;28;01mif\u001b[39;00m asynchronous:\n\u001b[1;32m    898\u001b[0m     args\u001b[38;5;241m.\u001b[39mappend(\u001b[38;5;124mb\u001b[39m\u001b[38;5;124m\"\u001b[39m\u001b[38;5;124mASYNC\u001b[39m\u001b[38;5;124m\"\u001b[39m)\n\u001b[0;32m--> 899\u001b[0m \u001b[38;5;28;01mreturn\u001b[39;00m \u001b[38;5;28;43mself\u001b[39;49m\u001b[38;5;241;43m.\u001b[39;49m\u001b[43mexecute_command\u001b[49m\u001b[43m(\u001b[49m\u001b[38;5;124;43m\"\u001b[39;49m\u001b[38;5;124;43mFLUSHALL\u001b[39;49m\u001b[38;5;124;43m\"\u001b[39;49m\u001b[43m,\u001b[49m\u001b[43m \u001b[49m\u001b[38;5;241;43m*\u001b[39;49m\u001b[43margs\u001b[49m\u001b[43m,\u001b[49m\u001b[43m \u001b[49m\u001b[38;5;241;43m*\u001b[39;49m\u001b[38;5;241;43m*\u001b[39;49m\u001b[43mkwargs\u001b[49m\u001b[43m)\u001b[49m\n",
      "File \u001b[0;32m~/test-env/lib/python3.10/site-packages/redis/client.py:1235\u001b[0m, in \u001b[0;36mRedis.execute_command\u001b[0;34m(self, *args, **options)\u001b[0m\n\u001b[1;32m   1233\u001b[0m pool \u001b[38;5;241m=\u001b[39m \u001b[38;5;28mself\u001b[39m\u001b[38;5;241m.\u001b[39mconnection_pool\n\u001b[1;32m   1234\u001b[0m command_name \u001b[38;5;241m=\u001b[39m args[\u001b[38;5;241m0\u001b[39m]\n\u001b[0;32m-> 1235\u001b[0m conn \u001b[38;5;241m=\u001b[39m \u001b[38;5;28mself\u001b[39m\u001b[38;5;241m.\u001b[39mconnection \u001b[38;5;129;01mor\u001b[39;00m \u001b[43mpool\u001b[49m\u001b[38;5;241;43m.\u001b[39;49m\u001b[43mget_connection\u001b[49m\u001b[43m(\u001b[49m\u001b[43mcommand_name\u001b[49m\u001b[43m,\u001b[49m\u001b[43m \u001b[49m\u001b[38;5;241;43m*\u001b[39;49m\u001b[38;5;241;43m*\u001b[39;49m\u001b[43moptions\u001b[49m\u001b[43m)\u001b[49m\n\u001b[1;32m   1237\u001b[0m \u001b[38;5;28;01mtry\u001b[39;00m:\n\u001b[1;32m   1238\u001b[0m     \u001b[38;5;28;01mreturn\u001b[39;00m conn\u001b[38;5;241m.\u001b[39mretry\u001b[38;5;241m.\u001b[39mcall_with_retry(\n\u001b[1;32m   1239\u001b[0m         \u001b[38;5;28;01mlambda\u001b[39;00m: \u001b[38;5;28mself\u001b[39m\u001b[38;5;241m.\u001b[39m_send_command_parse_response(\n\u001b[1;32m   1240\u001b[0m             conn, command_name, \u001b[38;5;241m*\u001b[39margs, \u001b[38;5;241m*\u001b[39m\u001b[38;5;241m*\u001b[39moptions\n\u001b[1;32m   1241\u001b[0m         ),\n\u001b[1;32m   1242\u001b[0m         \u001b[38;5;28;01mlambda\u001b[39;00m error: \u001b[38;5;28mself\u001b[39m\u001b[38;5;241m.\u001b[39m_disconnect_raise(conn, error),\n\u001b[1;32m   1243\u001b[0m     )\n",
      "File \u001b[0;32m~/test-env/lib/python3.10/site-packages/redis/connection.py:1387\u001b[0m, in \u001b[0;36mConnectionPool.get_connection\u001b[0;34m(self, command_name, *keys, **options)\u001b[0m\n\u001b[1;32m   1383\u001b[0m     \u001b[38;5;28mself\u001b[39m\u001b[38;5;241m.\u001b[39m_in_use_connections\u001b[38;5;241m.\u001b[39madd(connection)\n\u001b[1;32m   1385\u001b[0m \u001b[38;5;28;01mtry\u001b[39;00m:\n\u001b[1;32m   1386\u001b[0m     \u001b[38;5;66;03m# ensure this connection is connected to Redis\u001b[39;00m\n\u001b[0;32m-> 1387\u001b[0m     \u001b[43mconnection\u001b[49m\u001b[38;5;241;43m.\u001b[39;49m\u001b[43mconnect\u001b[49m\u001b[43m(\u001b[49m\u001b[43m)\u001b[49m\n\u001b[1;32m   1388\u001b[0m     \u001b[38;5;66;03m# connections that the pool provides should be ready to send\u001b[39;00m\n\u001b[1;32m   1389\u001b[0m     \u001b[38;5;66;03m# a command. if not, the connection was either returned to the\u001b[39;00m\n\u001b[1;32m   1390\u001b[0m     \u001b[38;5;66;03m# pool before all data has been read or the socket has been\u001b[39;00m\n\u001b[1;32m   1391\u001b[0m     \u001b[38;5;66;03m# closed. either way, reconnect and verify everything is good.\u001b[39;00m\n\u001b[1;32m   1392\u001b[0m     \u001b[38;5;28;01mtry\u001b[39;00m:\n",
      "File \u001b[0;32m~/test-env/lib/python3.10/site-packages/redis/connection.py:617\u001b[0m, in \u001b[0;36mConnection.connect\u001b[0;34m(self)\u001b[0m\n\u001b[1;32m    615\u001b[0m     \u001b[38;5;28;01mraise\u001b[39;00m \u001b[38;5;167;01mTimeoutError\u001b[39;00m(\u001b[38;5;124m\"\u001b[39m\u001b[38;5;124mTimeout connecting to server\u001b[39m\u001b[38;5;124m\"\u001b[39m)\n\u001b[1;32m    616\u001b[0m \u001b[38;5;28;01mexcept\u001b[39;00m \u001b[38;5;167;01mOSError\u001b[39;00m \u001b[38;5;28;01mas\u001b[39;00m e:\n\u001b[0;32m--> 617\u001b[0m     \u001b[38;5;28;01mraise\u001b[39;00m \u001b[38;5;167;01mConnectionError\u001b[39;00m(\u001b[38;5;28mself\u001b[39m\u001b[38;5;241m.\u001b[39m_error_message(e))\n\u001b[1;32m    619\u001b[0m \u001b[38;5;28mself\u001b[39m\u001b[38;5;241m.\u001b[39m_sock \u001b[38;5;241m=\u001b[39m sock\n\u001b[1;32m    620\u001b[0m \u001b[38;5;28;01mtry\u001b[39;00m:\n",
      "\u001b[0;31mConnectionError\u001b[0m: Error -2 connecting to vecsim:6379. Name or service not known."
     ]
    }
   ],
   "source": [
    "VECTOR_FIELD_NAME = 'review_vector'\n",
    "DISTANCE_METRIC = 'COSINE'\n",
    "DIMENSIONS = vector_dim\n",
    "\n",
    "redis_conn.flushall()\n",
    "#create_hnsw_index(redis_conn,DIMENSIONS,DISTANCE_METRIC)\n",
    "#load_vectors(redis_conn,reviews_train,reviews_test_vector,VECTOR_FIELD_NAME)\n",
    "#print(type(headline_vectors[0]))"
   ]
  },
  {
   "cell_type": "code",
   "execution_count": null,
   "id": "248f9448",
   "metadata": {},
   "outputs": [],
   "source": []
  }
 ],
 "metadata": {
  "kernelspec": {
   "display_name": "Python 3 (ipykernel)",
   "language": "python",
   "name": "python3"
  },
  "language_info": {
   "codemirror_mode": {
    "name": "ipython",
    "version": 3
   },
   "file_extension": ".py",
   "mimetype": "text/x-python",
   "name": "python",
   "nbconvert_exporter": "python",
   "pygments_lexer": "ipython3",
   "version": "3.10.4"
  }
 },
 "nbformat": 4,
 "nbformat_minor": 5
}
