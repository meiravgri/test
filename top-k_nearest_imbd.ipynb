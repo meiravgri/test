{
 "cells": [
  {
   "cell_type": "code",
   "execution_count": 1,
   "id": "69b37c38",
   "metadata": {},
   "outputs": [
    {
     "name": "stderr",
     "output_type": "stream",
     "text": [
      "/home/meirav-gri/test-env/lib/python3.10/site-packages/tqdm/auto.py:22: TqdmWarning: IProgress not found. Please update jupyter and ipywidgets. See https://ipywidgets.readthedocs.io/en/stable/user_install.html\n",
      "  from .autonotebook import tqdm as notebook_tqdm\n",
      "Reusing dataset imdb (/home/meirav-gri/.cache/huggingface/datasets/imdb/plain_text/1.0.0/2fdd8b9bcadd6e7055e742a706876ba43f19faee861df134affd7a3f60fc38a1)\n",
      "Reusing dataset imdb (/home/meirav-gri/.cache/huggingface/datasets/imdb/plain_text/1.0.0/2fdd8b9bcadd6e7055e742a706876ba43f19faee861df134affd7a3f60fc38a1)\n"
     ]
    }
   ],
   "source": [
    "from datasets import load_dataset\n",
    "\n",
    "reviews_test = load_dataset(\"imdb\", split='test')\n",
    "reviews_train = load_dataset(\"imdb\", split='train')"
   ]
  },
  {
   "cell_type": "code",
   "execution_count": 2,
   "id": "bca7da56",
   "metadata": {},
   "outputs": [
    {
     "name": "stdout",
     "output_type": "stream",
     "text": [
      "{'text': 'I love sci-fi and am willing to put up with a lot. Sci-fi movies/TV are usually underfunded, under-appreciated and misunderstood. I tried to like this, I really did, but it is to good TV sci-fi as Babylon 5 is to Star Trek (the original). Silly prosthetics, cheap cardboard sets, stilted dialogues, CG that doesn\\'t match the background, and painfully one-dimensional characters cannot be overcome with a \\'sci-fi\\' setting. (I\\'m sure there are those of you out there who think Babylon 5 is good sci-fi TV. It\\'s not. It\\'s clichéd and uninspiring.) While US viewers might like emotion and character development, sci-fi is a genre that does not take itself seriously (cf. Star Trek). It may treat important issues, yet not as a serious philosophy. It\\'s really difficult to care about the characters here as they are not simply foolish, just missing a spark of life. Their actions and reactions are wooden and predictable, often painful to watch. The makers of Earth KNOW it\\'s rubbish as they have to always say \"Gene Roddenberry\\'s Earth...\" otherwise people would not continue watching. Roddenberry\\'s ashes must be turning in their orbit as this dull, cheap, poorly edited (watching it without advert breaks really brings this home) trudging Trabant of a show lumbers into space. Spoiler. So, kill off a main character. And then bring him back as another actor. Jeeez! Dallas all over again.', 'label': 0}\n"
     ]
    },
    {
     "data": {
      "text/plain": [
       "{'text': 'I rented I AM CURIOUS-YELLOW from my video store because of all the controversy that surrounded it when it was first released in 1967. I also heard that at first it was seized by U.S. customs if it ever tried to enter this country, therefore being a fan of films considered \"controversial\" I really had to see this for myself.<br /><br />The plot is centered around a young Swedish drama student named Lena who wants to learn everything she can about life. In particular she wants to focus her attentions to making some sort of documentary on what the average Swede thought about certain political issues such as the Vietnam War and race issues in the United States. In between asking politicians and ordinary denizens of Stockholm about their opinions on politics, she has sex with her drama teacher, classmates, and married men.<br /><br />What kills me about I AM CURIOUS-YELLOW is that 40 years ago, this was considered pornographic. Really, the sex and nudity scenes are few and far between, even then it\\'s not shot like some cheaply made porno. While my countrymen mind find it shocking, in reality sex and nudity are a major staple in Swedish cinema. Even Ingmar Bergman, arguably their answer to good old boy John Ford, had sex scenes in his films.<br /><br />I do commend the filmmakers for the fact that any sex shown in the film is shown for artistic purposes rather than just to shock people and make money to be shown in pornographic theaters in America. I AM CURIOUS-YELLOW is a good film for anyone wanting to study the meat and potatoes (no pun intended) of Swedish cinema. But really, this film doesn\\'t have much of a plot.',\n",
       " 'label': 0}"
      ]
     },
     "execution_count": 2,
     "metadata": {},
     "output_type": "execute_result"
    }
   ],
   "source": [
    "print(reviews_test[0])\n",
    "reviews_train[0]"
   ]
  },
  {
   "cell_type": "code",
   "execution_count": 3,
   "id": "cd8aaee1",
   "metadata": {
    "scrolled": true
   },
   "outputs": [
    {
     "data": {
      "text/plain": [
       "(384,)"
      ]
     },
     "execution_count": 3,
     "metadata": {},
     "output_type": "execute_result"
    }
   ],
   "source": [
    "from sentence_transformers import SentenceTransformer\n",
    "\n",
    "model = SentenceTransformer('sentence-transformers/all-MiniLM-L6-v2')\n",
    "reviews_test_vector = [ model.encode(review) for review in reviews_test[:20]['text']]\n",
    "#reviews_train_vector = [ model.encode(review) for review in reviews_train[:]['text']]\n",
    "#%store reviews_train_vector\n",
    "\n",
    "\"\"\"\n",
    "    load embedded reviews_train_vector\n",
    "    if this returns an error, uncomment 2 previous lines\n",
    "\"\"\"\n",
    "%store -r reviews_train_vector\n",
    "\n",
    "#check how many dimensions in a single vector \n",
    "reviews_test_vector[0].shape\n",
    "reviews_train_vector[0].shape"
   ]
  },
  {
   "cell_type": "code",
   "execution_count": 72,
   "id": "01442aed",
   "metadata": {},
   "outputs": [],
   "source": [
    "from scipy.spatial.distance import euclidean\n",
    "\n",
    "def euclidean_distance_lookup(trained_vectors, test_vector, requested_k):\n",
    "    #for each trained_vector\n",
    "    distances = list()\n",
    "    for idx, train_vector in enumerate(trained_vectors):\n",
    "        \n",
    "        #calc distance to test_vector\n",
    "        dist = euclidean(train_vector, test_vector)\n",
    "        \n",
    "        \n",
    "        #append distance to dists_list\n",
    "        distances.append((idx, dist))\n",
    "    #sort distances from lowest to highest\n",
    "    distances.sort(key=lambda tup: tup[1])\n",
    "    \n",
    "    print(f\"\"\"we looked for: {reviews_test[0]['text']}\n",
    "            \n",
    "            we found:\"\"\")\n",
    "    \n",
    "    #print text of requested_k minimum of dists_list\n",
    "    for result in range(requested_k):\n",
    "        train_index = distances[result][0]\n",
    "        train_review = reviews_train[train_index]\n",
    "        print(f\"{result}:\\n {train_review}\\n\")\n",
    "        "
   ]
  },
  {
   "cell_type": "code",
   "execution_count": 73,
   "id": "a871e047",
   "metadata": {},
   "outputs": [
    {
     "name": "stdout",
     "output_type": "stream",
     "text": [
      "we looked for: I love sci-fi and am willing to put up with a lot. Sci-fi movies/TV are usually underfunded, under-appreciated and misunderstood. I tried to like this, I really did, but it is to good TV sci-fi as Babylon 5 is to Star Trek (the original). Silly prosthetics, cheap cardboard sets, stilted dialogues, CG that doesn't match the background, and painfully one-dimensional characters cannot be overcome with a 'sci-fi' setting. (I'm sure there are those of you out there who think Babylon 5 is good sci-fi TV. It's not. It's clichéd and uninspiring.) While US viewers might like emotion and character development, sci-fi is a genre that does not take itself seriously (cf. Star Trek). It may treat important issues, yet not as a serious philosophy. It's really difficult to care about the characters here as they are not simply foolish, just missing a spark of life. Their actions and reactions are wooden and predictable, often painful to watch. The makers of Earth KNOW it's rubbish as they have to always say \"Gene Roddenberry's Earth...\" otherwise people would not continue watching. Roddenberry's ashes must be turning in their orbit as this dull, cheap, poorly edited (watching it without advert breaks really brings this home) trudging Trabant of a show lumbers into space. Spoiler. So, kill off a main character. And then bring him back as another actor. Jeeez! Dallas all over again.\n",
      "            \n",
      "            we found:\n",
      "0:\n",
      " {'text': 'I cannot believe how popular this show is. I consider myself an avid sci-fi fan. I have read countless sci-fi novels and have enjoyed many sci-fi movies and TV shows. I really wouldn\\'t even consider this true sci-fi. Every episode I have sat through was like a lame, watered down version of a Star Trek episode, minus anything that might make it interesting or exciting.<br /><br />It\\'s basically a bunch of people standing around in ARMY fatigues, talking about something boring, who occasionally go through the Stargate and end up on a planet that looks just like Earth, with people who look and sound just like Humans! It seemed extremely low budget. The characters are all forgettable one dimensional cutouts, and the many attempts at humor fall flat. It reminds me when you see a commercial with a famous athlete in it, trying to be funny, but he is not. It is just sad.<br /><br />The movie was terrible as well. There is so much you can do with a portal through space, yet every place the ARMY people go is BORING! This shows no imagination! I actually thought the TV series \"Alien Nation\" from a few years back (based on the movie Alien Nation) was much better. That show actually had good story lines and decent characters. I wasn\\'t crazy about \"Alien Nation\", but compared to this overrated crap, it was great!<br /><br />Also, unlike the great new \"Battlestar Galactica\" series, \"Stargate\" copied the look and feel of the lame movie too closely! They should have at least updated the cheesy \"toilet flushing\" special effect of whenever somebody goes through the Stargate.', 'label': 0}\n",
      "\n",
      "1:\n",
      " {'text': \"OK. I admit. I'm one of those nerds who have spent all to many hours with my beloved DVD player and my wonderful television set watching science fiction series. Star Trek (Next Generation) was my first space date, and since then I've switched partners regularly. I've seen'em all, it seems, and my favorites are «Lexx», «Farscape» and the new «Battlestar Galactica», in other words: the newest, state of the art space operas. But, I also have a general crush on the old fashioned ones, the cheap ones, like the magnificent four seasoned BBC show «Blakes7». Here, the budgets are smaller than hobbits, the special effects seem to be made on a Commodore 64, but who cares when the scripts are sharp and intelligently written with dark humor, the acting dead serious and at times even high class?<br /><br />But why do they always speak English in the space future? Because this is NOT the future, it's fantasy for kids. Still, it can be irritating at times. Me, being a Norwegian, have often damned this appalling fact that one never makes genre series, like science fiction, for Scandinavian viewers. I never ever thought of the fact that this might have happened. But it did, actually, once, and even in my own homeland, Norway. I was two years old when the so called Fjernsynsteatret (TV theater section) of our national public service channel Nrk produced this three episode version of Blindpassasjer (The Stowaway).<br /><br />When I first heard of it, I was not surprised of the fact that until this day, the show has only been screened once in Norway, making it impossible for me to actually see it. It went on Swedish, danish and Finnish television also, in it's time, but that was a long time ago. There have been no video or DVD release of it, not a surprise either, and when it was screened on an art house cinema, this happened in Bergen, a city far far away from Oslo (where I live). And then there's another fact about «Blindpassasjer» that didn't surprise me, that it was written by the two Norwegian authors Tor Åge Bringsværd and Jon Bing (Bing&Bringsværd). This duo basically introduced the SciFi genre to Norwegians in the seventies; they published anthologies and wrote what they called fable prose. In my opinion, Bringsværd is the most interesting of the two writers, and has written several great and entertaining novels, masterpieces even, some of them hilarious, such as «Bazar» and «Syvsoverskens Dystre Frokost». No other than this guy, also an acclaimed dramatist, could construct the script of «Blindpassasjer».<br /><br />When I finally got to watch it, it was because a strange swede who recorded the three episodes on VCR in the 80's, eventually managed to transform it to DVD and give it to me. He was a nice bloke. So I sat down and watched it, with Swedish subtitles, bad sound and some scrapes and errors; but the thing came through and I was surprised that I eventually came to love it.<br /><br />The exterior scenes with the spaceships and planets are better than the ones in Blakes7, and the credit goes to Caprino studios (who made the famous Flåklypa Grand Prix), and the interior of the Marco Polo (the space ship) works better than I'd expected. The acting is typically theatrical, but it works better than when they play Ibsen, to put it mildly, and Bjørn Floberg carries his role solidly, as does Trini Lund. The legendary actress Henny moan delivers her lines in a serious and laid back tone which fits the genre, but this is an ensemble play, and I'm happy to say that Ola B. Johannesen carries his mustache with nobility, and Marit Østbye is a really hot space chic of my standards.<br /><br />But is it really that good? Well, one have to swallow the rather abrupt ending, the pretentious criticism of «modern society», but yes, it's, well, not really really really fantastic, but charming, cool, nostalgic and pleasant. One and a half hour of classic Norwegian SciFi.\", 'label': 1}\n",
      "\n",
      "2:\n",
      " {'text': 'I nominate this and BABYLON 5 as the best television sci-fi series made. Both stand out in my mind because unlike early STAR TREK series, there is a consistent evolution of plots and characters. If you look at the original STAR TREK and STAR TREK:TNG, they were fine shows, but there was no overall theme or plot that connected all the episodes. In many ways, you could usually watch the shows totally out of sequence with no difficulty understanding what is occurring. This was less the case with DEEP SPACE 9 (with its giant battles that took up all of the final season) and the other TREK shows, as there was more of a larger story that unified them. This coherence seems to have developed as a concept with BABYLON 5 and saw this to an even greater extent with SG-1. The bottom line is that in many ways this series was like watching a family or a long novel slowly take form. Sure, there were a few \"throwaway\" episodes that were not connected to the rest, but these were very few and far between and were also usually pretty funny.<br /><br />And speaking of funny, I loved that SG-1 kept the mood light from time to time and wasn\\'t so dreadfully serious. In this way, I actually enjoyed it more than BABYLON 5. Jack O\\'Neill was a great character with his sarcasm and love of Homer Simpson--it\\'s really too bad he slowly faded from the series in later seasons.<br /><br />To truly appreciate SG-1, you should watch it from the beginning and see how intricately the plots work. This coherence gives the show exceptional staying power. And, if you don\\'t like SG-1 after giving it a fair chance, then sci-fi is probably NOT the genre for you.', 'label': 1}\n",
      "\n",
      "3:\n",
      " {'text': 'It\\'s only 2 episodes into a 5 part drama, but I can already state that this is one of the best things I\\'ve ever seen. That\\'s on TV, silver screen or even in real life.<br /><br />As a writer, it\\'s so good it\\'s almost demoralising! As a viewer it\\'s so entertaining that I\\'m annoyed the episodes are over a fortnight instead of Monday to Friday. It\\'s clear that all these negatives are actually positives.<br /><br />I\\'m a modern guy who previously turned over from TV dramas. In comparison to movies, TV dramas always seemed to be dated, quite tame, and well, generally boring! \"Five Days\" has really brought TV drama into the 21st Century, so for me at least, it\\'s mind changing. Go watch it.', 'label': 1}\n",
      "\n",
      "4:\n",
      " {'text': \"Star Trek: Hidden Frontier is a long-running internet only fan film, done completely for the love of the series, and a must watch for fans of Trek. The production quality is extremely high for a fan film, although sometimes you can tell that they're green-screenin' it. This doesn't take away from the overall experience however. The CGI ships are fantastic, as well as the space battle scenes... On the negative side, I could tell in the earlier episodes (and even occasionally in the newer ones) that some of the actors/actresses are not quite comfortable in their roles, but once again, this doesn't take away from the overall experience of new interpretations of Star Trek. The cast and crew have truly come up with something special here, and, as a whole,I would highly recommend this series to fans of The Next Generation and Deep Space 9.\", 'label': 1}\n",
      "\n"
     ]
    }
   ],
   "source": [
    "euclidean_distance_lookup(reviews_train_vector, reviews_test_vector[0], 5)"
   ]
  },
  {
   "cell_type": "code",
   "execution_count": 74,
   "id": "393256fd",
   "metadata": {},
   "outputs": [],
   "source": [
    "from scipy.spatial.distance import cosine\n",
    "\n",
    "def cosine_distance_lookup(trained_vectors, test_vector, requested_k):\n",
    "    #for each trained_vector\n",
    "    distances = list()\n",
    "    for idx, train_vector in enumerate(trained_vectors):\n",
    "        \n",
    "        #calc distance to test_vector\n",
    "        dist = cosine(train_vector, test_vector)\n",
    "        \n",
    "        \n",
    "        #append distance to dists_list\n",
    "        distances.append((idx, dist))\n",
    "    #sort distances from lowest to highest\n",
    "    distances.sort(key=lambda tup: tup[1])\n",
    "    \n",
    "    print(f\"\"\"we looked for: {reviews_test[0]['text']}\n",
    "            \n",
    "            we found:\"\"\")\n",
    "    \n",
    "    #print text of requested_k minimum of dists_list\n",
    "    for result in range(requested_k):\n",
    "        train_index = distances[result][0]\n",
    "        train_review = reviews_train[train_index]\n",
    "        print(f\"{result}:\\n {train_review}\\n\")"
   ]
  },
  {
   "cell_type": "code",
   "execution_count": 75,
   "id": "bcdc56d6",
   "metadata": {},
   "outputs": [
    {
     "name": "stdout",
     "output_type": "stream",
     "text": [
      "we looked for: I love sci-fi and am willing to put up with a lot. Sci-fi movies/TV are usually underfunded, under-appreciated and misunderstood. I tried to like this, I really did, but it is to good TV sci-fi as Babylon 5 is to Star Trek (the original). Silly prosthetics, cheap cardboard sets, stilted dialogues, CG that doesn't match the background, and painfully one-dimensional characters cannot be overcome with a 'sci-fi' setting. (I'm sure there are those of you out there who think Babylon 5 is good sci-fi TV. It's not. It's clichéd and uninspiring.) While US viewers might like emotion and character development, sci-fi is a genre that does not take itself seriously (cf. Star Trek). It may treat important issues, yet not as a serious philosophy. It's really difficult to care about the characters here as they are not simply foolish, just missing a spark of life. Their actions and reactions are wooden and predictable, often painful to watch. The makers of Earth KNOW it's rubbish as they have to always say \"Gene Roddenberry's Earth...\" otherwise people would not continue watching. Roddenberry's ashes must be turning in their orbit as this dull, cheap, poorly edited (watching it without advert breaks really brings this home) trudging Trabant of a show lumbers into space. Spoiler. So, kill off a main character. And then bring him back as another actor. Jeeez! Dallas all over again.\n",
      "            \n",
      "            we found:\n",
      "0:\n",
      " {'text': 'I cannot believe how popular this show is. I consider myself an avid sci-fi fan. I have read countless sci-fi novels and have enjoyed many sci-fi movies and TV shows. I really wouldn\\'t even consider this true sci-fi. Every episode I have sat through was like a lame, watered down version of a Star Trek episode, minus anything that might make it interesting or exciting.<br /><br />It\\'s basically a bunch of people standing around in ARMY fatigues, talking about something boring, who occasionally go through the Stargate and end up on a planet that looks just like Earth, with people who look and sound just like Humans! It seemed extremely low budget. The characters are all forgettable one dimensional cutouts, and the many attempts at humor fall flat. It reminds me when you see a commercial with a famous athlete in it, trying to be funny, but he is not. It is just sad.<br /><br />The movie was terrible as well. There is so much you can do with a portal through space, yet every place the ARMY people go is BORING! This shows no imagination! I actually thought the TV series \"Alien Nation\" from a few years back (based on the movie Alien Nation) was much better. That show actually had good story lines and decent characters. I wasn\\'t crazy about \"Alien Nation\", but compared to this overrated crap, it was great!<br /><br />Also, unlike the great new \"Battlestar Galactica\" series, \"Stargate\" copied the look and feel of the lame movie too closely! They should have at least updated the cheesy \"toilet flushing\" special effect of whenever somebody goes through the Stargate.', 'label': 0}\n",
      "\n",
      "1:\n",
      " {'text': \"OK. I admit. I'm one of those nerds who have spent all to many hours with my beloved DVD player and my wonderful television set watching science fiction series. Star Trek (Next Generation) was my first space date, and since then I've switched partners regularly. I've seen'em all, it seems, and my favorites are «Lexx», «Farscape» and the new «Battlestar Galactica», in other words: the newest, state of the art space operas. But, I also have a general crush on the old fashioned ones, the cheap ones, like the magnificent four seasoned BBC show «Blakes7». Here, the budgets are smaller than hobbits, the special effects seem to be made on a Commodore 64, but who cares when the scripts are sharp and intelligently written with dark humor, the acting dead serious and at times even high class?<br /><br />But why do they always speak English in the space future? Because this is NOT the future, it's fantasy for kids. Still, it can be irritating at times. Me, being a Norwegian, have often damned this appalling fact that one never makes genre series, like science fiction, for Scandinavian viewers. I never ever thought of the fact that this might have happened. But it did, actually, once, and even in my own homeland, Norway. I was two years old when the so called Fjernsynsteatret (TV theater section) of our national public service channel Nrk produced this three episode version of Blindpassasjer (The Stowaway).<br /><br />When I first heard of it, I was not surprised of the fact that until this day, the show has only been screened once in Norway, making it impossible for me to actually see it. It went on Swedish, danish and Finnish television also, in it's time, but that was a long time ago. There have been no video or DVD release of it, not a surprise either, and when it was screened on an art house cinema, this happened in Bergen, a city far far away from Oslo (where I live). And then there's another fact about «Blindpassasjer» that didn't surprise me, that it was written by the two Norwegian authors Tor Åge Bringsværd and Jon Bing (Bing&Bringsværd). This duo basically introduced the SciFi genre to Norwegians in the seventies; they published anthologies and wrote what they called fable prose. In my opinion, Bringsværd is the most interesting of the two writers, and has written several great and entertaining novels, masterpieces even, some of them hilarious, such as «Bazar» and «Syvsoverskens Dystre Frokost». No other than this guy, also an acclaimed dramatist, could construct the script of «Blindpassasjer».<br /><br />When I finally got to watch it, it was because a strange swede who recorded the three episodes on VCR in the 80's, eventually managed to transform it to DVD and give it to me. He was a nice bloke. So I sat down and watched it, with Swedish subtitles, bad sound and some scrapes and errors; but the thing came through and I was surprised that I eventually came to love it.<br /><br />The exterior scenes with the spaceships and planets are better than the ones in Blakes7, and the credit goes to Caprino studios (who made the famous Flåklypa Grand Prix), and the interior of the Marco Polo (the space ship) works better than I'd expected. The acting is typically theatrical, but it works better than when they play Ibsen, to put it mildly, and Bjørn Floberg carries his role solidly, as does Trini Lund. The legendary actress Henny moan delivers her lines in a serious and laid back tone which fits the genre, but this is an ensemble play, and I'm happy to say that Ola B. Johannesen carries his mustache with nobility, and Marit Østbye is a really hot space chic of my standards.<br /><br />But is it really that good? Well, one have to swallow the rather abrupt ending, the pretentious criticism of «modern society», but yes, it's, well, not really really really fantastic, but charming, cool, nostalgic and pleasant. One and a half hour of classic Norwegian SciFi.\", 'label': 1}\n",
      "\n",
      "2:\n",
      " {'text': 'I nominate this and BABYLON 5 as the best television sci-fi series made. Both stand out in my mind because unlike early STAR TREK series, there is a consistent evolution of plots and characters. If you look at the original STAR TREK and STAR TREK:TNG, they were fine shows, but there was no overall theme or plot that connected all the episodes. In many ways, you could usually watch the shows totally out of sequence with no difficulty understanding what is occurring. This was less the case with DEEP SPACE 9 (with its giant battles that took up all of the final season) and the other TREK shows, as there was more of a larger story that unified them. This coherence seems to have developed as a concept with BABYLON 5 and saw this to an even greater extent with SG-1. The bottom line is that in many ways this series was like watching a family or a long novel slowly take form. Sure, there were a few \"throwaway\" episodes that were not connected to the rest, but these were very few and far between and were also usually pretty funny.<br /><br />And speaking of funny, I loved that SG-1 kept the mood light from time to time and wasn\\'t so dreadfully serious. In this way, I actually enjoyed it more than BABYLON 5. Jack O\\'Neill was a great character with his sarcasm and love of Homer Simpson--it\\'s really too bad he slowly faded from the series in later seasons.<br /><br />To truly appreciate SG-1, you should watch it from the beginning and see how intricately the plots work. This coherence gives the show exceptional staying power. And, if you don\\'t like SG-1 after giving it a fair chance, then sci-fi is probably NOT the genre for you.', 'label': 1}\n",
      "\n",
      "3:\n",
      " {'text': 'It\\'s only 2 episodes into a 5 part drama, but I can already state that this is one of the best things I\\'ve ever seen. That\\'s on TV, silver screen or even in real life.<br /><br />As a writer, it\\'s so good it\\'s almost demoralising! As a viewer it\\'s so entertaining that I\\'m annoyed the episodes are over a fortnight instead of Monday to Friday. It\\'s clear that all these negatives are actually positives.<br /><br />I\\'m a modern guy who previously turned over from TV dramas. In comparison to movies, TV dramas always seemed to be dated, quite tame, and well, generally boring! \"Five Days\" has really brought TV drama into the 21st Century, so for me at least, it\\'s mind changing. Go watch it.', 'label': 1}\n",
      "\n",
      "4:\n",
      " {'text': \"Star Trek: Hidden Frontier is a long-running internet only fan film, done completely for the love of the series, and a must watch for fans of Trek. The production quality is extremely high for a fan film, although sometimes you can tell that they're green-screenin' it. This doesn't take away from the overall experience however. The CGI ships are fantastic, as well as the space battle scenes... On the negative side, I could tell in the earlier episodes (and even occasionally in the newer ones) that some of the actors/actresses are not quite comfortable in their roles, but once again, this doesn't take away from the overall experience of new interpretations of Star Trek. The cast and crew have truly come up with something special here, and, as a whole,I would highly recommend this series to fans of The Next Generation and Deep Space 9.\", 'label': 1}\n",
      "\n"
     ]
    }
   ],
   "source": [
    "cosine_distance_lookup(reviews_train_vector, reviews_test_vector[0], 5)"
   ]
  },
  {
   "cell_type": "code",
   "execution_count": null,
   "id": "514fe0ff",
   "metadata": {},
   "outputs": [],
   "source": []
  }
 ],
 "metadata": {
  "kernelspec": {
   "display_name": "Python 3 (ipykernel)",
   "language": "python",
   "name": "python3"
  },
  "language_info": {
   "codemirror_mode": {
    "name": "ipython",
    "version": 3
   },
   "file_extension": ".py",
   "mimetype": "text/x-python",
   "name": "python",
   "nbconvert_exporter": "python",
   "pygments_lexer": "ipython3",
   "version": "3.10.4"
  }
 },
 "nbformat": 4,
 "nbformat_minor": 5
}
